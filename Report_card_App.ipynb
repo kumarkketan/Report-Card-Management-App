{
 "cells": [
  {
   "cell_type": "markdown",
   "id": "2ce50021-ddee-45bf-8a2e-135b19054e59",
   "metadata": {},
   "source": [
    "# Making App With SQL Integration"
   ]
  },
  {
   "cell_type": "code",
   "execution_count": 2,
   "id": "82ca6b30-70e5-4c60-ae83-eea8be51d5f4",
   "metadata": {},
   "outputs": [],
   "source": [
    "import mysql.connector"
   ]
  },
  {
   "cell_type": "code",
   "execution_count": 2,
   "id": "ef736c21-55ac-4734-a4f1-18ce2e20ca6c",
   "metadata": {},
   "outputs": [],
   "source": [
    "# connecting with mysql\n",
    "conn = mysql.connector.connect(\n",
    "    host=\"localhost\",\n",
    "    user=\"root\",\n",
    "    password=\"Ketan\",\n",
    ")\n",
    "cursor = conn.cursor()"
   ]
  },
  {
   "cell_type": "code",
   "execution_count": 3,
   "id": "97a2bdc3-5775-458c-a79d-f6dc566c895d",
   "metadata": {},
   "outputs": [],
   "source": [
    "# dropping database if exists\n",
    "cursor.execute(\"DROP DATABASE IF EXISTS report_card\")\n",
    "conn.commit()"
   ]
  },
  {
   "cell_type": "code",
   "execution_count": 4,
   "id": "8e5fbf4e-cfe2-4daa-b0c6-f99319ac695e",
   "metadata": {},
   "outputs": [],
   "source": [
    "# creating the database\n",
    "cursor.execute(\"Create Database report_card\") #database added in mysql"
   ]
  },
  {
   "cell_type": "code",
   "execution_count": 5,
   "id": "34024555-dee8-4d2f-b537-8400bba8a875",
   "metadata": {},
   "outputs": [],
   "source": [
    "cursor.close()\n",
    "conn.close()"
   ]
  },
  {
   "cell_type": "code",
   "execution_count": 6,
   "id": "be462d5b-bcd5-41d6-b213-38b6e7f3a30b",
   "metadata": {},
   "outputs": [],
   "source": [
    "# using the database which was created\n",
    "conn = mysql.connector.connect(\n",
    "    host=\"localhost\",\n",
    "    user=\"root\",\n",
    "    password=\"Ketan\",\n",
    "    database=\"report_card\"\n",
    ")\n",
    "cursor = conn.cursor()"
   ]
  },
  {
   "cell_type": "code",
   "execution_count": 7,
   "id": "735005b4-0a95-4e06-a5b8-fd3c96ea59da",
   "metadata": {},
   "outputs": [],
   "source": [
    "# dropping table if exists\n",
    "cursor.execute(\"DROP TABLE IF EXISTS students\")\n",
    "conn.commit()"
   ]
  },
  {
   "cell_type": "code",
   "execution_count": 8,
   "id": "d2c363e6-f485-4642-9ff8-805e7d4ba7f3",
   "metadata": {},
   "outputs": [],
   "source": [
    "# creating table schema\n",
    "cursor.execute('''\n",
    "    CREATE TABLE IF NOT EXISTS students(\n",
    "        id INT AUTO_INCREMENT PRIMARY KEY,\n",
    "        name VARCHAR(100),\n",
    "        age INT,\n",
    "        python INT,\n",
    "        numpy INT,\n",
    "        pandas INT,\n",
    "        `sql` INT,\n",
    "        power_bi INT\n",
    "    )\n",
    "''')"
   ]
  },
  {
   "cell_type": "code",
   "execution_count": 9,
   "id": "fde97c8c-d7b8-447d-a0db-c84c423bb2c9",
   "metadata": {},
   "outputs": [],
   "source": [
    "# Adding column in table\n",
    "cursor.execute('''\n",
    "    ALTER TABLE students\n",
    "    ADD COLUMN course VARCHAR(100)\n",
    "''')"
   ]
  },
  {
   "cell_type": "code",
   "execution_count": 10,
   "id": "79a5e320-c6ad-4756-b66e-9d7a0ac541d0",
   "metadata": {},
   "outputs": [],
   "source": [
    "cursor.close()\n",
    "conn.close()"
   ]
  },
  {
   "cell_type": "markdown",
   "id": "4b3a14c3-ee36-4a07-9b9c-e9aa91d11cc3",
   "metadata": {},
   "source": [
    "## Now making app"
   ]
  },
  {
   "cell_type": "code",
   "execution_count": 2,
   "id": "d3d114f4-d650-42d3-9a40-a4c0694d5b54",
   "metadata": {},
   "outputs": [],
   "source": [
    "def app():\n",
    "    # Establishing connection to MySQL database\n",
    "    conn = mysql.connector.connect(\n",
    "    host=\"localhost\",\n",
    "    user=\"root\",\n",
    "    password=\"Ketan\",\n",
    "    database=\"report_card\"\n",
    "    )\n",
    "    cursor = conn.cursor()\n",
    "    print('*'*10 + \" Welcome to \\033[1m\\033[34mXYZ Institute \\033[0m\\033[0m\" + '*'*10)\n",
    "    print()\n",
    "\n",
    "    # Starting an infinite loop to continuously prompt user for options\n",
    "    while True:\n",
    "        print(\"\\nChoose from the following:\")\n",
    "        print('''\n",
    "        1. To enter student details\n",
    "        2. To view student details\n",
    "        3. To see report card\n",
    "        4. To update student details\n",
    "        5. To delete student details\n",
    "        6. To exit''')\n",
    "        print()\n",
    "        try:\n",
    "\n",
    "            # Taking user input and convert it to integer\n",
    "            var = int(input(\"Enter number what you want to perform : \"))\n",
    "            if var == 1:\n",
    "                input_details(cursor,conn)\n",
    "        \n",
    "            elif var == 2:\n",
    "                view_details(cursor,conn)\n",
    "            \n",
    "            elif var == 3:\n",
    "                generate_report_card(cursor,conn)\n",
    "    \n",
    "            elif var == 4:\n",
    "                update_details(cursor,conn)\n",
    "                \n",
    "            elif var == 5:\n",
    "                delete_details(cursor,conn)\n",
    "            \n",
    "            elif var == 6:\n",
    "                # Exit the program\n",
    "                print()\n",
    "                print(\"Thankyou! for using XYZ Institute App. Will see you soon!!!!\")\n",
    "                cursor.close()\n",
    "                conn.close()\n",
    "                break\n",
    "        \n",
    "            else:\n",
    "                # Handling invalid choices that are outside given options\n",
    "                print()\n",
    "                print(\"\\n Choose the number from the given option only.\")\n",
    "                print()\n",
    "\n",
    "        except ValueError:\n",
    "            # Handling invalid inputs which are not integers\n",
    "            print(\"\\n\\033[1m\\033[31mInvalid input. Please enter integer only that are given in options...\\033[0m\\033[0m\")"
   ]
  },
  {
   "cell_type": "markdown",
   "id": "7f79c102-1e8c-4245-bf08-1b2748a126b1",
   "metadata": {},
   "source": [
    "## Now creating functions to input the details"
   ]
  },
  {
   "cell_type": "code",
   "execution_count": 4,
   "id": "bc5bd957-0465-4025-ad54-a91be7ced3b8",
   "metadata": {},
   "outputs": [],
   "source": [
    "def input_details(cursor,conn):\n",
    "    try:\n",
    "        name = input(\"Enter Student Name : \")\n",
    "\n",
    "        # Validating that the name contains only alphabetic characters and spaces\n",
    "        if not name.replace(\" \", \"\").isalpha():\n",
    "            print(\"\\n\\033[1m\\033[31mName must contain only alphabetic characters.\\033[0m\\033[0m\")\n",
    "            raise ValueError\n",
    "        age = int(input(\"Enter Student Age : \"))\n",
    "        \n",
    "        # Age is a positive number greater than zero\n",
    "        if age <= 0:\n",
    "            print(\"\\n\\033[1m\\033[31mAge must be a positive number greater than 0.\\033[0m\\033[0m\")\n",
    "            raise ValueError\n",
    "\n",
    "        # Creating inner function to validate marks for each subject\n",
    "        def valid_marks(sub):\n",
    "            marks = int(input(f\"Enter Student {sub} marks : \"))\n",
    "            if marks<0 or marks>100:\n",
    "                print(\"\\n\\033[1m\\033[31mMarks can't be greater than 100.\\033[0m\\033[0m\")\n",
    "                raise ValueError\n",
    "            return marks\n",
    "            \n",
    "        # now collecting marks for each subject\n",
    "        python = valid_marks(\"Python\")\n",
    "        numpy = valid_marks(\"Numpy\")\n",
    "        pandas = valid_marks(\"Pandas\")\n",
    "        sql = valid_marks(\"SQL\")\n",
    "        power_bi = valid_marks(\"Power BI\")\n",
    "        course = input(\"Enter Student Selected Course : \")\n",
    "        if not course.replace(\" \", \"\").isalpha():\n",
    "            print(\"\\n\\033[1m\\033[31mCourse must contain only alphabetic characters.\\033[0m\\033[0m\")\n",
    "            raise ValueError\n",
    "        \n",
    "        # Preparing and executing SQL INSERT query to add student details into database\n",
    "        cursor.execute('''\n",
    "            INSERT INTO students (name, age, python, numpy, pandas, `sql`, power_bi, course)\n",
    "            VALUES (%s, %s, %s, %s, %s, %s, %s, %s)\n",
    "        ''', (name, age, python, numpy, pandas, sql, power_bi, course))\n",
    "        # we can also use\n",
    "        # '''\n",
    "        # cursor.execute('''INSERT INTO students (name, age, python, numpy, pandas, `sql`, power_bi)\n",
    "        # VALUES ('{}', {}, {}, {}, {}, {}, {}, {})\n",
    "        # '''.format(name, age, python, numpy, pandas, sql_score, power_bi, course)\n",
    "        \n",
    "        # Commiting the transaction to save changes\n",
    "        conn.commit()\n",
    "        print(\"Student data inserted successfully!\\n\")\n",
    "\n",
    "    except:\n",
    "        print(\"\\n\\033[1m\\033[31mInvalid input.\\033[0m\\033[0m\")\n",
    "        "
   ]
  },
  {
   "cell_type": "code",
   "execution_count": 5,
   "id": "23014505-a5e7-47a8-b73e-9e82501c5c16",
   "metadata": {},
   "outputs": [
    {
     "name": "stdout",
     "output_type": "stream",
     "text": [
      "********** Welcome to \u001b[1m\u001b[34mXYZ Institute \u001b[0m\u001b[0m**********\n",
      "\n",
      "\n",
      "Choose from the following:\n",
      "\n",
      "        1. To enter student details\n",
      "        2. To view student details\n",
      "        3. To see report card\n",
      "        4. To update student details\n",
      "        5. To delete student details\n",
      "        6. To exit\n",
      "\n"
     ]
    },
    {
     "name": "stdin",
     "output_type": "stream",
     "text": [
      "Enter number what you want to perform :  1\n",
      "Enter Student Name :  Neha\n",
      "Enter Student Age :  23\n",
      "Enter Student Python marks :  90\n",
      "Enter Student Numpy marks :  83\n",
      "Enter Student Pandas marks :  71\n",
      "Enter Student SQL marks :  98\n",
      "Enter Student Power BI marks :  69\n",
      "Enter Student Selected Course :  DA\n"
     ]
    },
    {
     "name": "stdout",
     "output_type": "stream",
     "text": [
      "Student data inserted successfully!\n",
      "\n",
      "\n",
      "Choose from the following:\n",
      "\n",
      "        1. To enter student details\n",
      "        2. To view student details\n",
      "        3. To see report card\n",
      "        4. To update student details\n",
      "        5. To delete student details\n",
      "        6. To exit\n",
      "\n"
     ]
    },
    {
     "name": "stdin",
     "output_type": "stream",
     "text": [
      "Enter number what you want to perform :  6\n"
     ]
    },
    {
     "name": "stdout",
     "output_type": "stream",
     "text": [
      "\n",
      "Thankyou! for using XYZ Institute App. Will see you soon!!!!\n"
     ]
    }
   ],
   "source": [
    "app()"
   ]
  },
  {
   "cell_type": "markdown",
   "id": "c7811309-a239-43fb-88a6-51698461c16d",
   "metadata": {},
   "source": [
    "## Creating function to view student details"
   ]
  },
  {
   "cell_type": "code",
   "execution_count": 6,
   "id": "07231076-d083-4fac-b1c2-70a696916045",
   "metadata": {},
   "outputs": [],
   "source": [
    "def view_details(cursor,conn):\n",
    "    try:\n",
    "        new_id = int(input('Enter Student Id to view details: '))\n",
    "        cursor.execute(\"Select id, name, age, course from students where id = %s\", (new_id,))\n",
    "        output = cursor.fetchone()\n",
    "    \n",
    "        if output:\n",
    "            print(f\"\\nStudent Details:\")\n",
    "            print(f\"\\nID     : {output[0]}\")\n",
    "            print(f\"Name   : {output[1]}\")\n",
    "            print(f\"Age    : {output[2]}\")\n",
    "            print(f\"Course : {output[3]}\\n\")\n",
    "    \n",
    "        else:\n",
    "            print(f\"\\nNo Student Found!!!!!\")\n",
    "\n",
    "    except ValueError:\n",
    "            print(\"\\n\\033[1m\\033[31mInvalid input. Please enter Student ID correctly...\\033[0m\\033[0m\")"
   ]
  },
  {
   "cell_type": "code",
   "execution_count": 7,
   "id": "84b4eea0-1c5d-4435-b3b1-c5de78d09501",
   "metadata": {},
   "outputs": [
    {
     "name": "stdout",
     "output_type": "stream",
     "text": [
      "********** Welcome to \u001b[1m\u001b[34mXYZ Institute \u001b[0m\u001b[0m**********\n",
      "\n",
      "\n",
      "Choose from the following:\n",
      "\n",
      "        1. To enter student details\n",
      "        2. To view student details\n",
      "        3. To see report card\n",
      "        4. To update student details\n",
      "        5. To delete student details\n",
      "        6. To exit\n",
      "\n"
     ]
    },
    {
     "name": "stdin",
     "output_type": "stream",
     "text": [
      "Enter number what you want to perform :  2\n",
      "Enter Student Id to view details:  1\n"
     ]
    },
    {
     "name": "stdout",
     "output_type": "stream",
     "text": [
      "\n",
      "Student Details:\n",
      "\n",
      "ID     : 1\n",
      "Name   : Rahul\n",
      "Age    : 21\n",
      "Course : DA\n",
      "\n",
      "\n",
      "Choose from the following:\n",
      "\n",
      "        1. To enter student details\n",
      "        2. To view student details\n",
      "        3. To see report card\n",
      "        4. To update student details\n",
      "        5. To delete student details\n",
      "        6. To exit\n",
      "\n"
     ]
    },
    {
     "name": "stdin",
     "output_type": "stream",
     "text": [
      "Enter number what you want to perform :  6\n"
     ]
    },
    {
     "name": "stdout",
     "output_type": "stream",
     "text": [
      "\n",
      "Thankyou! for using XYZ Institute App. Will see you soon!!!!\n"
     ]
    }
   ],
   "source": [
    "app()"
   ]
  },
  {
   "cell_type": "markdown",
   "id": "f8581563-c530-48d9-b5a6-4a0fbc0d69da",
   "metadata": {},
   "source": [
    "## Creating function to update student details"
   ]
  },
  {
   "cell_type": "code",
   "execution_count": 11,
   "id": "0acb7bd0-23ed-4673-ac43-d37819fb51ba",
   "metadata": {},
   "outputs": [],
   "source": [
    "def update_details(cursor,conn):\n",
    "    try:\n",
    "        new_id = int(input('Enter Student Id to update the details '))\n",
    "        cursor.execute(\"Select * from students where id = %s\", (new_id,))\n",
    "        data = cursor.fetchone()\n",
    "        \n",
    "        # Checking if student exists in the database\n",
    "        if data:\n",
    "            print(f\"\\nStudent found: \\nName - {data[1]} \\nAge - {data[2]} \\nCourse - {data[8]}\\n\")\n",
    "            print(f\"{data[1]} Marks: \\nPython - {data[3]} \\nNumpy - {data[4]} \\nPandas - {data[5]} \\nSQL - {data[6]} \\nPower BI - {data[7]}\")\n",
    "    \n",
    "            while True:\n",
    "\n",
    "                # Displaying options to the user for what they want to update\n",
    "                print('''\n",
    "                \\nWhat would you like to update?\n",
    "                1. Student Details\n",
    "                2. Marks\n",
    "                3. Both\n",
    "                4. Exit without changes\\n\n",
    "                ''')\n",
    "                try:\n",
    "                    choice = int(input(\"Enter your choice (1/2/3/4): \"))\n",
    "                \n",
    "                    if choice == 1:\n",
    "                        try:\n",
    "                            # Update only student's basic details (name, age, course)\n",
    "                            new_name = input(\"Enter new name: \")\n",
    "                            new_age = int(input(\"Enter new age: \"))\n",
    "                            new_course = input(\"Enter new course: \")\n",
    "                \n",
    "                            cursor.execute(\"\"\"\n",
    "                                UPDATE students \n",
    "                                SET name = %s, age = %s, course = %s \n",
    "                                WHERE id = %s\n",
    "                            \"\"\", (new_name, new_age, new_course, new_id))\n",
    "                            conn.commit()\n",
    "                            print(\"\\nStudent details updated.\")\n",
    "                            \n",
    "                            break\n",
    "                        except:\n",
    "                            print(\"\\n\\033[1m\\033[31mInvalid input. Please enter information correctly...\\033[0m\\033[0m\")\n",
    "                    \n",
    "                    elif choice == 2:\n",
    "                        try:\n",
    "                            # Update only marks for all subjects\n",
    "                            python = int(input(\"Enter Python marks: \"))\n",
    "                            numpy = int(input(\"Enter NumPy marks: \"))\n",
    "                            pandas = int(input(\"Enter Pandas marks: \"))\n",
    "                            sql = int(input(\"Enter SQL marks: \"))\n",
    "                            power_bi = int(input(\"Enter Power BI marks: \"))\n",
    "                \n",
    "                            cursor.execute(\"\"\"\n",
    "                                UPDATE students \n",
    "                                SET python = %s, numpy = %s, pandas = %s, `sql` = %s, power_bi = %s \n",
    "                                WHERE id = %s\n",
    "                            \"\"\", (python, numpy, pandas, sql, power_bi, new_id))\n",
    "                            conn.commit()\n",
    "                            print(\"\\nMarks updated.\")\n",
    "                            \n",
    "                            break\n",
    "                        except ValueError:\n",
    "                            print(\"\\n\\033[1m\\033[31mInvalid input. Please enter marks correctly...\\033[0m\\033[0m\")\n",
    "                    \n",
    "                    elif choice == 3:\n",
    "                        try:\n",
    "                            # Update both personal details and marks\n",
    "                            new_name = input(\"Enter new name: \")\n",
    "                            new_age = int(input(\"Enter new age: \"))\n",
    "                            new_course = input(\"Enter new course: \")\n",
    "                            python = int(input(\"Enter Python marks: \"))\n",
    "                            numpy = int(input(\"Enter NumPy marks: \"))\n",
    "                            pandas = int(input(\"Enter Pandas marks: \"))\n",
    "                            sql = int(input(\"Enter SQL marks: \"))\n",
    "                            power_bi = int(input(\"Enter Power BI marks: \"))\n",
    "                \n",
    "                            cursor.execute(\"\"\"\n",
    "                                UPDATE students \n",
    "                                SET name = %s, age = %s, course = %s,\n",
    "                                    python = %s, numpy = %s, pandas = %s, `sql` = %s, power_bi = %s \n",
    "                                WHERE id = %s\n",
    "                            \"\"\", (new_name, new_age, new_course, python, numpy, pandas, sql, power_bi, new_id))\n",
    "                            conn.commit()\n",
    "                            print(\"\\nStudent details and marks updated.\")\n",
    "                            break\n",
    "                        except:\n",
    "                            print(\"\\n\\033[1m\\033[31mInvalid input. Please enter information correctly...\\033[0m\\033[0m\")\n",
    "                    \n",
    "                    elif choice == 4:\n",
    "                        # Exit without making any changes\n",
    "                        print(\"\\nExited without making any changes.\\n\")\n",
    "                        return\n",
    "            \n",
    "                    else:\n",
    "                        print(\"\\nInvalid choice. Choose again!.\\n\")\n",
    "\n",
    "                except ValueError:\n",
    "                    print(\"\\n\\033[1m\\033[31mInvalid input. Enter the integer only...\\033[0m\\033[0m\")\n",
    "        \n",
    "            print(\"\\n Update completed successfully.\\n\")\n",
    "    \n",
    "        else:\n",
    "            print(\"\\n No student found with given ID.\\n\")\n",
    "\n",
    "    except ValueError:\n",
    "        print(\"\\n\\033[1m\\033[31mInvalid input. Please enter Student ID correctly...\\033[0m\\033[0m\")"
   ]
  },
  {
   "cell_type": "code",
   "execution_count": 12,
   "id": "e3e2cdb2-9671-4276-a06c-a77e961d0894",
   "metadata": {},
   "outputs": [
    {
     "name": "stdout",
     "output_type": "stream",
     "text": [
      "********** Welcome to \u001b[1m\u001b[34mXYZ Institute \u001b[0m\u001b[0m**********\n",
      "\n",
      "\n",
      "Choose from the following:\n",
      "\n",
      "        1. To enter student details\n",
      "        2. To view student details\n",
      "        3. To see report card\n",
      "        4. To update student details\n",
      "        5. To delete student details\n",
      "        6. To exit\n",
      "\n"
     ]
    },
    {
     "name": "stdin",
     "output_type": "stream",
     "text": [
      "Enter number what you want to perform :  4\n",
      "Enter Student Id to update the details  2\n"
     ]
    },
    {
     "name": "stdout",
     "output_type": "stream",
     "text": [
      "\n",
      "Student found: \n",
      "Name - Neha \n",
      "Age - 23 \n",
      "Course - DA\n",
      "\n",
      "Neha Marks: \n",
      "Python - 90 \n",
      "Numpy - 83 \n",
      "Pandas - 71 \n",
      "SQL - 98 \n",
      "Power BI - 69\n",
      "\n",
      "                \n",
      "What would you like to update?\n",
      "                1. Student Details\n",
      "                2. Marks\n",
      "                3. Both\n",
      "                4. Exit without changes\n",
      "\n",
      "                \n"
     ]
    },
    {
     "name": "stdin",
     "output_type": "stream",
     "text": [
      "Enter your choice (1/2/3/4):  a\n"
     ]
    },
    {
     "name": "stdout",
     "output_type": "stream",
     "text": [
      "\n",
      "\u001b[1m\u001b[31mInvalid input. Enter the integer only...\u001b[0m\u001b[0m\n",
      "\n",
      "                \n",
      "What would you like to update?\n",
      "                1. Student Details\n",
      "                2. Marks\n",
      "                3. Both\n",
      "                4. Exit without changes\n",
      "\n",
      "                \n"
     ]
    },
    {
     "name": "stdin",
     "output_type": "stream",
     "text": [
      "Enter your choice (1/2/3/4):  1\n",
      "Enter new name:  Neha Rawat\n",
      "Enter new age:  23\n",
      "Enter new course:  DS\n"
     ]
    },
    {
     "name": "stdout",
     "output_type": "stream",
     "text": [
      "\n",
      "Student details updated.\n",
      "\n",
      " Update completed successfully.\n",
      "\n",
      "\n",
      "Choose from the following:\n",
      "\n",
      "        1. To enter student details\n",
      "        2. To view student details\n",
      "        3. To see report card\n",
      "        4. To update student details\n",
      "        5. To delete student details\n",
      "        6. To exit\n",
      "\n"
     ]
    },
    {
     "name": "stdin",
     "output_type": "stream",
     "text": [
      "Enter number what you want to perform :  6\n"
     ]
    },
    {
     "name": "stdout",
     "output_type": "stream",
     "text": [
      "\n",
      "Thankyou! for using XYZ Institute App. Will see you soon!!!!\n"
     ]
    }
   ],
   "source": [
    "app()"
   ]
  },
  {
   "cell_type": "markdown",
   "id": "30a765a3-8c49-4164-a2e8-d14b286e8fb0",
   "metadata": {},
   "source": [
    "## Creating function to delete record"
   ]
  },
  {
   "cell_type": "code",
   "execution_count": 18,
   "id": "7c523d50-8024-4b8d-a312-cc51e55255fa",
   "metadata": {},
   "outputs": [],
   "source": [
    "def delete_details(cursor,conn):\n",
    "    try:\n",
    "        # user to input the Student ID\n",
    "        stu_id = int(input('Enter Student Id to delete the details :'))\n",
    "        \n",
    "        # excuting query\n",
    "        cursor.execute(\"Select * from students where id = %s\", (stu_id,))\n",
    "        data = cursor.fetchone()\n",
    "    \n",
    "        if data:\n",
    "            # If student exists, confirm deletion from the user\n",
    "            while True:\n",
    "                confirmation = input(f\"Are you sure you want to delete student '{data[1]}'? (yes/no): \").lower()\n",
    "                if confirmation == 'yes':\n",
    "\n",
    "                    # If user confirms, delete the record\n",
    "                    cursor.execute(\"delete from students where id = %s\", (stu_id,))\n",
    "                    conn.commit()\n",
    "                    print(\"\\nrecord deleted successfully.\")\n",
    "                    break\n",
    "                    \n",
    "                elif confirmation == 'no':\n",
    "\n",
    "                    # If not than don't delete the record\n",
    "                    print(\"\\nDeletion Cancelled!!!\")\n",
    "                    break\n",
    "                \n",
    "                else:\n",
    "                    print(\"\\nOnly choose yes or no\")\n",
    "    \n",
    "        else:\n",
    "            print(\"\\n No student found with given ID.\\n\")\n",
    "\n",
    "    except ValueError:\n",
    "        print(\"\\n\\033[1m\\033[31mInvalid input. Please enter Student ID correctly...\\033[0m\\033[0m\")"
   ]
  },
  {
   "cell_type": "markdown",
   "id": "67aa51f9-df0b-47e3-b1c5-39159c63d5b4",
   "metadata": {},
   "source": [
    "## Creating function to generate report card"
   ]
  },
  {
   "cell_type": "code",
   "execution_count": 19,
   "id": "570e0505-38b5-4622-81dd-25186451ed2e",
   "metadata": {},
   "outputs": [],
   "source": [
    "def generate_report_card(cursor,conn):\n",
    "    try:\n",
    "        #user to enter a student ID\n",
    "        new_id = int(input('Enter Student Id to view report card: '))\n",
    "\n",
    "        # Fetching details for the given student ID\n",
    "        cursor.execute(\"Select * from students where id = %s\", (new_id,))\n",
    "        data = cursor.fetchone()\n",
    "    \n",
    "    # If student exists \n",
    "        if data:\n",
    "            subjects = {\n",
    "                'Python': data[3],\n",
    "                'NumPy': data[4],\n",
    "                'Pandas': data[5],\n",
    "                'SQL': data[6],\n",
    "                'Power BI': data[7]\n",
    "            }\n",
    "            # Created a dictionary of subjects and marks\n",
    "\n",
    "            \n",
    "            # Now calculating total, percentage, and result\n",
    "            total = sum(subjects.values())\n",
    "            per = round(total / len(subjects),2)\n",
    "            result = \"Pass\" if per >= 40 else \"Fail\"\n",
    "    \n",
    "    # generating grades\n",
    "            if per > 90:\n",
    "                grade = \"A+\"\n",
    "            elif per >= 80:\n",
    "                grade = \"A\"\n",
    "            elif per >= 70:\n",
    "                grade = \"B\"\n",
    "            elif per >= 60:\n",
    "                grade = \"C\"\n",
    "            elif per >= 50:\n",
    "                grade = \"D\"\n",
    "            else:\n",
    "                grade = \"F\"\n",
    "    \n",
    "            \n",
    "    # Build the report card layout\n",
    "            \n",
    "    # creating header\n",
    "            content_lines = [\n",
    "                \"\",\n",
    "                \"\",\n",
    "                f\"Name   : {data[1]:<20} Id     : {data[0]}\",\n",
    "                f\"Age    : {data[2]:<20} Course : {data[8]}\",\n",
    "                \"\",\n",
    "                \"                REPORT CARD             \",\n",
    "                \"+--------------------+----------+\",\n",
    "                \"| Subjects           |    Marks |\",\n",
    "                \"+--------------------+----------+\"\n",
    "            ]\n",
    "            # Adding & appending marks\n",
    "            for sub, mark in subjects.items():\n",
    "                content_lines.append(f\"| {sub:<18} | {mark:>8} |\")\n",
    "            content_lines.append(\"+----------------------+--------+\")\n",
    "            content_lines += [\n",
    "                \"\",\n",
    "                f\"Total Marks : {total:<14} Grade  : {grade}\",\n",
    "                f\"Percentage  : {per:<14} Result : {result}\",\n",
    "                \"\"\n",
    "            ]\n",
    "\n",
    "            # Determine the max line width for borders\n",
    "            max_len = max(len(line) for line in content_lines)\n",
    "            content_lines.append(\"Official Sign : XYZ Institute\".rjust(max_len))\n",
    "            content_lines += [\n",
    "                \"\",\n",
    "                \"This ia an automated generated report card\"\n",
    "            ]\n",
    "\n",
    "            # Title in center with formatting\n",
    "            title = \"**** XYZ Institute ****\".center(max_len)\n",
    "            content_lines[0] = f\"\\033[1;3m{title}\\033[0m\" \n",
    "            lines = \"\".rjust(max_len,\"-\")\n",
    "            content_lines[4] = lines\n",
    "            \n",
    "            # creating outer border\n",
    "            border = \"+\" + \"-\" * (max_len + 2) + \"+\"\n",
    "\n",
    "            # Printing report card\n",
    "            print(\"\\n\" + border)\n",
    "            for line in content_lines:\n",
    "                print(f\"| {line.ljust(max_len)} |\")\n",
    "            print(border + \"\\n\")\n",
    "    \n",
    "        else:\n",
    "            print(\"\\nNo student found!!!!!!!!!\")\n",
    "\n",
    "    except ValueError:\n",
    "            print(\"\\n\\033[1m\\033[31mInvalid input. Please enter Student ID correctly...\\033[0m\\033[0m\")"
   ]
  },
  {
   "cell_type": "code",
   "execution_count": 20,
   "id": "90454ca0-9336-493e-8972-f7ba31db7d60",
   "metadata": {},
   "outputs": [
    {
     "name": "stdout",
     "output_type": "stream",
     "text": [
      "********** Welcome to \u001b[1m\u001b[34mXYZ Institute \u001b[0m\u001b[0m**********\n",
      "\n",
      "\n",
      "Choose from the following:\n",
      "\n",
      "        1. To enter student details\n",
      "        2. To view student details\n",
      "        3. To see report card\n",
      "        4. To update student details\n",
      "        5. To delete student details\n",
      "        6. To exit\n",
      "\n"
     ]
    },
    {
     "name": "stdin",
     "output_type": "stream",
     "text": [
      "Enter number what you want to perform :  3\n",
      "Enter Student Id to view report card:  2\n"
     ]
    },
    {
     "name": "stdout",
     "output_type": "stream",
     "text": [
      "\n",
      "+--------------------------------------------+\n",
      "| \u001b[1;3m         **** XYZ Institute ****          \u001b[0m |\n",
      "|                                            |\n",
      "| Name   : Neha Rawat           Id     : 2   |\n",
      "| Age    : 23                   Course : DS  |\n",
      "| ------------------------------------------ |\n",
      "|                 REPORT CARD                |\n",
      "| +--------------------+----------+          |\n",
      "| | Subjects           |    Marks |          |\n",
      "| +--------------------+----------+          |\n",
      "| | Python             |       90 |          |\n",
      "| | NumPy              |       83 |          |\n",
      "| | Pandas             |       71 |          |\n",
      "| | SQL                |       98 |          |\n",
      "| | Power BI           |       69 |          |\n",
      "| +----------------------+--------+          |\n",
      "|                                            |\n",
      "| Total Marks : 411            Grade  : A    |\n",
      "| Percentage  : 82.2           Result : Pass |\n",
      "|                                            |\n",
      "|              Official Sign : XYZ Institute |\n",
      "|                                            |\n",
      "| This ia an automated generated report card |\n",
      "+--------------------------------------------+\n",
      "\n",
      "\n",
      "Choose from the following:\n",
      "\n",
      "        1. To enter student details\n",
      "        2. To view student details\n",
      "        3. To see report card\n",
      "        4. To update student details\n",
      "        5. To delete student details\n",
      "        6. To exit\n",
      "\n"
     ]
    },
    {
     "name": "stdin",
     "output_type": "stream",
     "text": [
      "Enter number what you want to perform :  6\n"
     ]
    },
    {
     "name": "stdout",
     "output_type": "stream",
     "text": [
      "\n",
      "Thankyou! for using XYZ Institute App. Will see you soon!!!!\n"
     ]
    }
   ],
   "source": [
    "app()"
   ]
  },
  {
   "cell_type": "code",
   "execution_count": null,
   "id": "a0211086-190f-4d22-b09f-3478e7734ea9",
   "metadata": {},
   "outputs": [],
   "source": []
  }
 ],
 "metadata": {
  "kernelspec": {
   "display_name": "Python 3 (ipykernel)",
   "language": "python",
   "name": "python3"
  },
  "language_info": {
   "codemirror_mode": {
    "name": "ipython",
    "version": 3
   },
   "file_extension": ".py",
   "mimetype": "text/x-python",
   "name": "python",
   "nbconvert_exporter": "python",
   "pygments_lexer": "ipython3",
   "version": "3.12.4"
  }
 },
 "nbformat": 4,
 "nbformat_minor": 5
}
